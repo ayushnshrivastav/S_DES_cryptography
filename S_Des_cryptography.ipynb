{
  "nbformat": 4,
  "nbformat_minor": 0,
  "metadata": {
    "colab": {
      "provenance": [],
      "collapsed_sections": []
    },
    "kernelspec": {
      "name": "python3",
      "display_name": "Python 3"
    },
    "language_info": {
      "name": "python"
    }
  },
  "cells": [
    {
      "cell_type": "markdown",
      "metadata": {
        "id": "cqWebqHUdwqn"
      },
      "source": [
        "Key Generation of S-DES \n",
        "https://www.c-sharpcorner.com/article/s-des-or-simplified-data-encryption-standard/"
      ]
    },
    {
      "cell_type": "code",
      "metadata": {
        "id": "dYWYU2wdZLkK",
        "colab": {
          "base_uri": "https://localhost:8080/"
        },
        "outputId": "a085741c-e03f-4922-ab78-b4f5f700a15b"
      },
      "source": [
        "#Step-1\n",
        "#key=int(input(\"Enter a key of 10 bits: \"))\n",
        "key='1010000010'\n",
        "\n",
        "\n",
        "#step-2\n",
        "#p10 table:\n",
        "keyLI=[ x for x in key]\n",
        "key2LI=[]\n",
        "\n",
        "def appendVal(new,arr,pos):\n",
        "  new.append(arr[pos-1])\n",
        "\n",
        "def appendAll(new,arr,arrayOfIndices):\n",
        "  for index in arrayOfIndices:\n",
        "    appendVal(new,arr,index)\n",
        "\n",
        "appendAll(key2LI,key,[3,5,2,7,4,10,1,9,8,6])\n",
        "#appendVal(key2LI,key,3)\n",
        "#appendVal(key2LI,key,5)\n",
        "#appendVal(key2LI,key,2)\n",
        "#appendVal(key2LI,key,7)\n",
        "#appendVal(key2LI,key,4)\n",
        "#appendVal(key2LI,key,10)\n",
        "#appendVal(key2LI,key,1)\n",
        "#appendVal(key2LI,key,9)\n",
        "#appendVal(key2LI,key,8)\n",
        "#appendVal(key2LI,key,6)\n",
        "\n",
        "#key2LI.append(keyLI[3-1])\n",
        "#key2LI.append(keyLI[5-1])\n",
        "#key2LI.append(keyLI[2-1])\n",
        "#key2LI.append(keyLI[7-1])\n",
        "#key2LI.append(keyLI[4-1])\n",
        "#key2LI.append(keyLI[10-1])\n",
        "#key2LI.append(keyLI[1-1])\n",
        "#key2LI.append(keyLI[9-1])\n",
        "#key2LI.append(keyLI[8-1])\n",
        "#key2LI.append(keyLI[6-1])\n",
        "key2LI\n",
        "\n",
        "\n"
      ],
      "execution_count": null,
      "outputs": [
        {
          "output_type": "execute_result",
          "data": {
            "text/plain": [
              "['1', '0', '0', '0', '0', '0', '1', '1', '0', '0']"
            ]
          },
          "metadata": {},
          "execution_count": 1
        }
      ]
    },
    {
      "cell_type": "code",
      "metadata": {
        "colab": {
          "base_uri": "https://localhost:8080/"
        },
        "id": "LjKxM2SUflMa",
        "outputId": "92571ae1-a975-498f-c71b-ff45d715a000"
      },
      "source": [
        "#step3\n",
        "def leftShift(arr,numberOfShifts):\n",
        "  arr2=[]\n",
        "  for i in range(numberOfShifts,len(arr)):\n",
        "    arr2.append(arr[i])\n",
        "  for i in range(0,numberOfShifts):\n",
        "    arr2.append(arr[i])\n",
        "  return arr2\n",
        "\n",
        "#divide into 2 halves:\n",
        "keyLeft=key2LI[:5]\n",
        "keyRight=key2LI[5:]\n",
        "\n",
        "#step-4 shifting:\n",
        "keyLeft=leftShift(keyLeft,1)\n",
        "keyRight=leftShift(keyRight,1)\n",
        "\n",
        "print(keyLeft, keyRight)\n",
        "\n",
        "\n",
        "\n",
        "\n"
      ],
      "execution_count": null,
      "outputs": [
        {
          "output_type": "stream",
          "name": "stdout",
          "text": [
            "['0', '0', '0', '0', '1'] ['1', '1', '0', '0', '0']\n"
          ]
        }
      ]
    },
    {
      "cell_type": "code",
      "metadata": {
        "colab": {
          "base_uri": "https://localhost:8080/"
        },
        "id": "MVd0WrwxlPau",
        "outputId": "96f59f0f-585b-4e15-9dc7-437ae1644e46"
      },
      "source": [
        "#step 5: combine and permute:\n",
        "key1=keyLeft+(keyRight)\n",
        "\n",
        "#p-8 Table\n",
        "k1=[]\n",
        "appendAll(k1,key1,[6,3,7,4,8,5,10,9])\n",
        "#appendVal(k1,key1,6)\n",
        "#appendVal(k1,key1,3)\n",
        "#appendVal(k1,key1,7)\n",
        "#appendVal(k1,key1,4)\n",
        "#appendVal(k1,key1,8)\n",
        "#appendVal(k1,key1,5)\n",
        "#appendVal(k1,key1,10)\n",
        "#appendVal(k1,key1,9)\n",
        "k1\n",
        "\n",
        "\n"
      ],
      "execution_count": null,
      "outputs": [
        {
          "output_type": "execute_result",
          "data": {
            "text/plain": [
              "['1', '0', '1', '0', '0', '1', '0', '0']"
            ]
          },
          "metadata": {},
          "execution_count": 3
        }
      ]
    },
    {
      "cell_type": "code",
      "metadata": {
        "colab": {
          "base_uri": "https://localhost:8080/"
        },
        "id": "yFmnyHOUkPP8",
        "outputId": "bdab1e5d-e83e-4d73-8f6e-09168b63193a"
      },
      "source": [
        "#step-6:\n",
        "keyLeft, keyRight\n",
        "\n",
        "\n",
        "#step-7\n",
        "keyLeft=leftShift(keyLeft,2)\n",
        "keyRight=leftShift(keyRight,2)\n",
        "\n",
        "#step-8\n",
        "key2=keyLeft+keyRight\n",
        "\n",
        "k2=[]\n",
        "appendAll(k2,key2,[6,3,7,4,8,5,10,9])\n",
        "#appendVal(k2,key2,6)\n",
        "#appendVal(k2,key2,3)\n",
        "#appendVal(k2,key2,7)\n",
        "#appendVal(k2,key2,4)\n",
        "#appendVal(k2,key2,8)\n",
        "#appendVal(k2,key2,5)\n",
        "#appendVal(k2,key2,10)\n",
        "#appendVal(k2,key2,9)\n",
        "k2\n"
      ],
      "execution_count": null,
      "outputs": [
        {
          "output_type": "execute_result",
          "data": {
            "text/plain": [
              "['0', '1', '0', '0', '0', '0', '1', '1']"
            ]
          },
          "metadata": {},
          "execution_count": 4
        }
      ]
    },
    {
      "cell_type": "markdown",
      "metadata": {
        "id": "Cq8-z2SqsarC"
      },
      "source": [
        "Encryption of Plain text into Cipher text in S-DES:\n"
      ]
    },
    {
      "cell_type": "code",
      "metadata": {
        "colab": {
          "base_uri": "https://localhost:8080/"
        },
        "id": "IJbrQfE2sb_0",
        "outputId": "cae671c4-fd56-4f99-b658-ef7e284d133e"
      },
      "source": [
        "#Step-1\n",
        "text='01110010'\n",
        "\n",
        "#step-2: permute IP-8:\n",
        "permuted_text=[]\n",
        "appendAll(permuted_text,text,[2,6,3,1,4,8,5,7])\n",
        "permuted_text\n",
        "\n",
        "#step-3= split into two halves\n",
        "textLeft=permuted_text[:4]\n",
        "textRight=permuted_text[4:]\n",
        "\n",
        "textLeft,textRight\n",
        "\n",
        "#step-4: EXPANSION using expansion table:\n",
        "expanded_text_right=[]\n",
        "appendAll(expanded_text_right,textRight,[4,1,2,3,2,3,4,1])\n",
        "\n",
        "\n",
        "#THERE IS AN ERROR IN THE SITE STEPS AT STEP-3 WHERE THE INPUT IN EP TABLE IS TAKEN 1000 INSTAED OF 1001\n",
        "#hence changing value here as well just to match with the site :\n",
        "#expanded_text_right[0]='0'#**********************************\n",
        "#expanded_text_right[6]='0'#**********************************\n",
        "#PLEASE DO CHANGE THIS VALUE BEFORE SUBMISSION***************\n",
        "expanded_text_right\n"
      ],
      "execution_count": null,
      "outputs": [
        {
          "output_type": "execute_result",
          "data": {
            "text/plain": [
              "['1', '1', '0', '0', '0', '0', '1', '1']"
            ]
          },
          "metadata": {},
          "execution_count": 5
        }
      ]
    },
    {
      "cell_type": "code",
      "metadata": {
        "colab": {
          "base_uri": "https://localhost:8080/"
        },
        "id": "1xbLAc7-zsIZ",
        "outputId": "0d23fd54-8ef2-4fbf-f837-84c7fbee9e6c"
      },
      "source": [
        "#step-5: XOR with k1\n",
        "def xor(a, b, n):\n",
        "    ans = \"\"\n",
        "     \n",
        "    # Loop to iterate over the\n",
        "    # Binary Strings\n",
        "    for i in range(n):\n",
        "         \n",
        "        # If the Character matches\n",
        "        if (a[i] == b[i]):\n",
        "            ans += \"0\"\n",
        "        else:\n",
        "            ans += \"1\"\n",
        "    return ans\n",
        "\n",
        "#xor=int(k1,2) ^ int(expanded_text_right,2)\n",
        "xorVal=[x for x in xor(expanded_text_right,k1,len(k1))]\n",
        "xorVal"
      ],
      "execution_count": null,
      "outputs": [
        {
          "output_type": "execute_result",
          "data": {
            "text/plain": [
              "['0', '1', '1', '0', '0', '1', '1', '1']"
            ]
          },
          "metadata": {},
          "execution_count": 6
        }
      ]
    },
    {
      "cell_type": "code",
      "metadata": {
        "colab": {
          "base_uri": "https://localhost:8080/",
          "height": 35
        },
        "id": "7T2rquREBzLA",
        "outputId": "6c43425c-a30e-4416-a0e7-d532a332852d"
      },
      "source": [
        "#step-6:\n",
        "#s-0 and s-1 boxes:\n",
        "s0=[['01','00','11','10'],['11','10','01','00'],['00','10','01','11'],['11','01','11','10']]\n",
        "s1=[['00','01','10','11'],['10','00','01','11'],['11','00','01','00'],['10','01','00','11']]\n",
        "\n",
        "#making halves:\n",
        "xorValLeft=xorVal[:4]\n",
        "xorValRight=xorVal[4:]\n",
        "\n",
        "xorValLeft, xorValRight\n",
        "\n",
        "#below: int(val,2) gives binary to decimal value, The most first and most last bit will be consider the row and other remaining, which are, 2 and 3, will be considered the columns.\n",
        "\n",
        "s_left_value=s0[int(xorValLeft[0]+xorValLeft[3],2)][int(xorValLeft[1]+xorValLeft[2],2)]\n",
        "s_right_value=s1[int(xorValRight[0]+xorValRight[3],2)][int(xorValRight[1]+xorValRight[2],2)]\n",
        "\n",
        "#step-7\n",
        "s_value=s_left_value+s_right_value\n",
        "s_value"
      ],
      "execution_count": null,
      "outputs": [
        {
          "output_type": "execute_result",
          "data": {
            "application/vnd.google.colaboratory.intrinsic+json": {
              "type": "string"
            },
            "text/plain": [
              "'1011'"
            ]
          },
          "metadata": {},
          "execution_count": 7
        }
      ]
    },
    {
      "cell_type": "code",
      "metadata": {
        "id": "jMVqwaSOIjvy"
      },
      "source": [
        "#here again we have 2 mistakes made in the site: \n",
        "#1.while taking left value after xor the row and col=2,3 and the value in s-0 table for this is 11 but they have taken value from s-1\n",
        "#2.for right value after xor, we get row,col=1,2 but they have taken col=3 as in 10=3\n",
        "# so just to match with the site:\n",
        "#s_value='0011' #***************************\n",
        "#******************************************\n",
        "#do delete this part before submission"
      ],
      "execution_count": null,
      "outputs": []
    },
    {
      "cell_type": "code",
      "metadata": {
        "colab": {
          "base_uri": "https://localhost:8080/",
          "height": 35
        },
        "id": "8kXUH-kwKlVQ",
        "outputId": "d62df863-23d4-4e75-e709-4a1d73f60075"
      },
      "source": [
        "#step-8   P4 table:\n",
        "p_value=[]\n",
        "appendAll(p_value,[x for x in s_value],[2,4,3,1])\n",
        "p_value\n",
        "\n",
        "#step-9:XOR p_value with textLeft(step3)\n",
        "xorVal2=xor(p_value,textLeft,len(textLeft))\n",
        "xorVal2"
      ],
      "execution_count": null,
      "outputs": [
        {
          "output_type": "execute_result",
          "data": {
            "application/vnd.google.colaboratory.intrinsic+json": {
              "type": "string"
            },
            "text/plain": [
              "'1101'"
            ]
          },
          "metadata": {},
          "execution_count": 9
        }
      ]
    },
    {
      "cell_type": "code",
      "metadata": {
        "colab": {
          "base_uri": "https://localhost:8080/"
        },
        "id": "PPh5cc9GDgtv",
        "outputId": "bcd3edc9-c973-45e5-cfb0-8f036c6c805e"
      },
      "source": [
        "#step-10: combining xorVal2 and textRight from step-3\n",
        "xorVal2=[x for x in xorVal2]\n",
        "xorVal2.extend(textRight)\n",
        "xorVal2\n",
        "\n",
        "#step 11 and 12: half the value and swap them:\n",
        "xorVal2Left=xorVal2[4:]\n",
        "xorVal2Right=xorVal2[:4]\n",
        "\n",
        "xorVal2Left, xorVal2Right\n",
        "\n"
      ],
      "execution_count": null,
      "outputs": [
        {
          "output_type": "execute_result",
          "data": {
            "text/plain": [
              "(['1', '0', '0', '1'], ['1', '1', '0', '1'])"
            ]
          },
          "metadata": {},
          "execution_count": 10
        }
      ]
    },
    {
      "cell_type": "code",
      "metadata": {
        "id": "WAlS9ldONROv",
        "colab": {
          "base_uri": "https://localhost:8080/"
        },
        "outputId": "190dbc83-dc33-4604-a138-478e8367b279"
      },
      "source": [
        "#step-13\n",
        "xorVal3=xorVal2Left+xorVal2Right                    #sum of new values after interchanging left and right\n",
        "permuted2=[]\n",
        "#IP-8 Table:\n",
        "appendAll(permuted2,xorVal3,[2,6,3,1,4,8,5,7])\n",
        "permuted2\n",
        "#two halves\n",
        "permuted2Left=permuted2[:4]\n",
        "permuted2Right=permuted2[4:]\n",
        "\n",
        "#ep table\n",
        "epVal=[]\n",
        "appendAll(epVal,permuted2Right,[4,1,2,3,2,3,4,1])\n",
        "epVal\n",
        "\n",
        "\n"
      ],
      "execution_count": null,
      "outputs": [
        {
          "output_type": "execute_result",
          "data": {
            "text/plain": [
              "['0', '1', '1', '1', '1', '1', '0', '1']"
            ]
          },
          "metadata": {},
          "execution_count": 11
        }
      ]
    },
    {
      "cell_type": "code",
      "metadata": {
        "colab": {
          "base_uri": "https://localhost:8080/"
        },
        "id": "3GkpmdjR7rLJ",
        "outputId": "036a0483-96da-4ce9-a37d-b4ac66bab9c3"
      },
      "source": [
        "epXor=[x for x in xor(epVal,k2,len(k2))]\n",
        "epXorLeft=epXor[:4]\n",
        "epXorRight=epXor[4:]\n",
        "#print(epXor)\n",
        "\n",
        "\n",
        "\n",
        "#s_left2=s0[int(epXorLeft[0]+xorValLeft[3],2)][int(xorValLeft[1]+xorValLeft[2],2)]\n",
        "#s_right2=s1[int(xorValRight[0]+xorValRight[3],2)][int(xorValRight[1]+xorValRight[2],2)]\n",
        "\n",
        "s_left2=s0[int(epXorLeft[0]+epXorLeft[3],2)][int(epXorLeft[1]+epXorLeft[2],2)]\n",
        "s_right2=s1[int(epXorRight[0]+epXorRight[3],2)][int(epXorRight[1]+epXorRight[2],2)]\n",
        "\n",
        "s_left2, s_right2\n",
        "s_combined=[]\n",
        "\n",
        "\n",
        "s_combined.extend([x for x in s_left2])\n",
        "s_combined.extend([x for x in s_right2])\n",
        "\n",
        "\n",
        "p_value2=[]\n",
        "appendAll(p_value2,[x for x in s_combined],[2,4,3,1])\n",
        "p_value2\n",
        "\n",
        "xorValnew=xor(p_value2,permuted2[:4],len(permuted2[:4]))\n",
        "xorValnew\n",
        "\n",
        "############################################################################################################################\n",
        "## Again here according to page the permuted2 value should be 01010110 but we get 01011010\n",
        "#hence making changes:\n",
        "#permuted2='01010110'\n",
        "###########################################################################################################################\n",
        "\n",
        "#after swapping\n",
        "swapped=[]\n",
        "swapped.extend([x for x in permuted2[4:]])\n",
        "swapped.extend([x for x in xorValnew])\n",
        "swapped\n",
        "\n",
        "res=[]\n",
        "appendAll(res, swapped, [2,6,3,1,4,8,5,7])\n",
        "res\n",
        "\n",
        "print(\"Hence the cipher text for given Plain text is: {}\".format(\"\".join(res)))\n"
      ],
      "execution_count": null,
      "outputs": [
        {
          "output_type": "stream",
          "name": "stdout",
          "text": [
            "Hence the cipher text for given Plain text is: 11110000\n"
          ]
        }
      ]
    }
  ]
}